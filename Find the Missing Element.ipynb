{
 "cells": [
  {
   "cell_type": "markdown",
   "metadata": {},
   "source": [
    "# Mine"
   ]
  },
  {
   "cell_type": "code",
   "execution_count": 4,
   "metadata": {},
   "outputs": [
    {
     "name": "stdout",
     "output_type": "stream",
     "text": [
      "5\n",
      "5\n",
      "6\n"
     ]
    }
   ],
   "source": [
    "def finder(arr1,arr2):\n",
    "    \n",
    "    for i in arr1:\n",
    "        \n",
    "        if i not in arr2:\n",
    "            return i\n",
    "        \n",
    "        arr2.remove(i)\n",
    "\n",
    "        \n",
    "arr1 = [1,2,3,4,5,6,7]\n",
    "arr2 = [3,7,2,1,4,6]\n",
    "\n",
    "print (finder(arr1,arr2))\n",
    "\n",
    "arr1 = [5,5,7,7]\n",
    "arr2 = [5,7,7]\n",
    "\n",
    "print (finder(arr1,arr2))\n",
    "\n",
    "arr1 = [9,8,7,6,5,4,3,2,1]\n",
    "arr2 = [9,8,7,5,4,3,2,1]\n",
    "\n",
    "print (finder(arr1,arr2))\n",
    "\n",
    "%timeit finder((arr1,arr2))"
   ]
  },
  {
   "cell_type": "markdown",
   "metadata": {},
   "source": [
    "# Instructor-1"
   ]
  },
  {
   "cell_type": "code",
   "execution_count": 5,
   "metadata": {},
   "outputs": [
    {
     "name": "stdout",
     "output_type": "stream",
     "text": [
      "5\n",
      "5\n",
      "6\n"
     ]
    }
   ],
   "source": [
    "def finder(arr1,arr2):\n",
    "    \n",
    "    # Sort the arrays\n",
    "    arr1.sort()\n",
    "    arr2.sort()\n",
    "    \n",
    "    # Compare elements in the sorted arrays\n",
    "    for num1, num2 in zip(arr1,arr2):\n",
    "        if num1!= num2:\n",
    "            return num1\n",
    "    \n",
    "    # Otherwise return last element\n",
    "    return arr1[-1]\n",
    "\n",
    "arr1 = [1,2,3,4,5,6,7]\n",
    "arr2 = [3,7,2,1,4,6]\n",
    "\n",
    "print (finder(arr1,arr2))\n",
    "\n",
    "arr1 = [5,5,7,7]\n",
    "arr2 = [5,7,7]\n",
    "\n",
    "print (finder(arr1,arr2))\n",
    "\n",
    "arr1 = [9,8,7,6,5,4,3,2,1]\n",
    "arr2 = [9,8,7,5,4,3,2,1]\n",
    "\n",
    "print (finder(arr1,arr2))"
   ]
  },
  {
   "cell_type": "markdown",
   "metadata": {},
   "source": [
    "# Instructor-2 using dictionary"
   ]
  },
  {
   "cell_type": "code",
   "execution_count": null,
   "metadata": {},
   "outputs": [],
   "source": [
    "import collections\n",
    "\n",
    "def finder2(arr1, arr2): \n",
    "    \n",
    "    # Using default dict to avoid key errors\n",
    "    d=collections.defaultdict(int) \n",
    "    \n",
    "    # Add a count for every instance in Array 1\n",
    "    for num in arr2:\n",
    "        d[num]+=1 \n",
    "    \n",
    "    # Check if num not in dictionary\n",
    "    for num in arr1: \n",
    "        if d[num]==0: \n",
    "            return num \n",
    "        \n",
    "        # Otherwise, subtract a count\n",
    "        else: d[num]-=1 "
   ]
  },
  {
   "cell_type": "markdown",
   "metadata": {},
   "source": [
    "# Instructor-3 using adding"
   ]
  },
  {
   "cell_type": "code",
   "execution_count": 6,
   "metadata": {},
   "outputs": [],
   "source": [
    "# 把arr1 & arr2的數各自加總\n",
    "#=> 然後把加總的和做相減\n",
    "#=> ans.\n",
    "\n",
    "#=> bad solutin\n",
    "#=> 因為當elements很多 or elements很大時，很耗resources\n",
    "#=> 而且如果elements有小數時，和 會讓certitude損失"
   ]
  },
  {
   "cell_type": "markdown",
   "metadata": {},
   "source": [
    "# Instructor-4 using XOR (trick)"
   ]
  },
  {
   "cell_type": "code",
   "execution_count": null,
   "metadata": {},
   "outputs": [],
   "source": [
    "def finder3(arr1, arr2): \n",
    "    \n",
    "    result = 0\n",
    "\n",
    "    for num in arr1 + arr2: \n",
    "        result = result ^ num \n",
    "       \n",
    "    return result \n",
    "\n",
    "arr1 = [5,5,7,7]\n",
    "arr2 = [5,7,7]\n",
    "\n",
    "# result = 0 => =0當作一個起始值，因為0^(any number) = any number\n",
    "# [5,5,7,7,5,7,7]\n",
    "\n",
    "# (1) 0^5 = 5\n",
    "# (2) 5^5 = 0\n",
    "# (3) 0^7 = 7\n",
    "# (4) 7^7 = 0\n",
    "# (5) 0^5 = 5\n",
    "\n",
    "# (6) 5^7 = 2\n",
    "\n",
    "#   0101  ^\n",
    "#   0111\n",
    "# = 0010 =2\n",
    "\n",
    "# (7) 2^7 = 5\n",
    "\n",
    "#   0010  ^\n",
    "#   0111\n",
    "# = 0101 = 5\n",
    "\n",
    "# 可以想成: 先將2 lists合併，然後開始分組\n",
    "# 成對的數字一組 => 成對的數字的 ^ 為 0 => 會有很多 0 => 0可以忽略，因為 0^(any number) = any number\n",
    "# 剩下不成對數字 => ans.，因為題目是刪掉 1 number\n",
    "\n",
    "finder3(arr1,arr2)"
   ]
  }
 ],
 "metadata": {
  "kernelspec": {
   "display_name": "Python 3",
   "language": "python",
   "name": "python3"
  },
  "language_info": {
   "codemirror_mode": {
    "name": "ipython",
    "version": 3
   },
   "file_extension": ".py",
   "mimetype": "text/x-python",
   "name": "python",
   "nbconvert_exporter": "python",
   "pygments_lexer": "ipython3",
   "version": "3.7.3"
  }
 },
 "nbformat": 4,
 "nbformat_minor": 2
}
